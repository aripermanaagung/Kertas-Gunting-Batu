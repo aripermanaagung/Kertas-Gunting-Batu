{
  "nbformat": 4,
  "nbformat_minor": 0,
  "metadata": {
    "colab": {
      "name": "BatuGuntingKertas.ipynb",
      "provenance": [],
      "collapsed_sections": [],
      "authorship_tag": "ABX9TyP/1RJCKRYy+R4DtN/AfIDd",
      "include_colab_link": true
    },
    "kernelspec": {
      "name": "python3",
      "display_name": "Python 3"
    },
    "language_info": {
      "name": "python"
    }
  },
  "cells": [
    {
      "cell_type": "markdown",
      "metadata": {
        "id": "view-in-github",
        "colab_type": "text"
      },
      "source": [
        "<a href=\"https://colab.research.google.com/github/aripermanaagung/Kertas-Gunting-Batu/blob/main/BatuGuntingKertas.ipynb\" target=\"_parent\"><img src=\"https://colab.research.google.com/assets/colab-badge.svg\" alt=\"Open In Colab\"/></a>"
      ]
    },
    {
      "cell_type": "code",
      "execution_count": 26,
      "metadata": {
        "colab": {
          "base_uri": "https://localhost:8080/"
        },
        "id": "Qx1VLWTozkxD",
        "outputId": "eb7f35c1-d519-44e9-cfd5-12608fe92bb6"
      },
      "outputs": [
        {
          "output_type": "stream",
          "name": "stdout",
          "text": [
            "Hello World\n"
          ]
        }
      ],
      "source": [
        "print(\"Hello World\")"
      ]
    },
    {
      "cell_type": "code",
      "source": [
        "from random import randint\n",
        "def validate(hand):\n",
        "    if hand < 0 or hand > 2:\n",
        "      return False\n",
        "    return True \n",
        "\n",
        "def print_hand(hand, name='Tamu'):\n",
        "    hands = ['Batu','Kertas', 'Gunting']\n",
        "    print(name + 'memilih:' + hands[hand])\n",
        "\n",
        "def judge(player, computer):\n",
        "    if player == computer:\n",
        "      return 'Seri'\n",
        "    elif player == 0 and computer ==1:\n",
        "        return 'Kalah'\n",
        "    elif player == 1 and computer ==2:\n",
        "        return 'Kalah'\n",
        "    elif player == 2 and computer ==0:\n",
        "        return 'Kalah'\n",
        "    else:\n",
        "        return 'Menang'\n",
        "  \n",
        "print('Memulai permainan Batu Kertas Guting!')\n",
        "player_name = input('Masukkan nama Anda:')\n",
        "\n",
        "while True:\n",
        "  print('Pilih tangan: (0: Batu, 1: Ketas, 2: Gunting)')\n",
        "  player_hand = int(input('Masukkan nomor (0-2): '))\n",
        "\n",
        "  if validate(player_hand):\n",
        "    computer_hand = randint(0,2)\n",
        "\n",
        "    print_hand(player_hand, player_name)\n",
        "    print_hand(computer_hand, 'Komputer')\n",
        "\n",
        "    result = judge(player_hand, computer_hand)\n",
        "    print('Hasil:'+ result)\n",
        "\n",
        "    play_again= input(\"play again? (y/n):\")\n",
        "    if play_again.lower() != \"y\":\n",
        "      break\n",
        "  else:\n",
        "    print('Mohon masukkan nomor yang benar')"
      ],
      "metadata": {
        "colab": {
          "base_uri": "https://localhost:8080/"
        },
        "id": "_9C6x_oWz0SJ",
        "outputId": "ef7f0a6d-3601-48e6-e960-ed29119f7bda"
      },
      "execution_count": null,
      "outputs": [
        {
          "output_type": "stream",
          "name": "stdout",
          "text": [
            "Memulai permainan Batu Kertas Guting!\n",
            "Masukkan nama Anda:Agus\n",
            "Pilih tangan: (0: Batu, 1: Ketas, 2: Gunting)\n",
            "Masukkan nomor (0-2): 2\n",
            "Agusmemilih:Gunting\n",
            "Komputermemilih:Batu\n",
            "Hasil:Kalah\n",
            "play again? (y/n):y\n",
            "Pilih tangan: (0: Batu, 1: Ketas, 2: Gunting)\n",
            "Masukkan nomor (0-2): 0\n",
            "Agusmemilih:Batu\n",
            "Komputermemilih:Kertas\n",
            "Hasil:Kalah\n",
            "play again? (y/n):y\n",
            "Pilih tangan: (0: Batu, 1: Ketas, 2: Gunting)\n",
            "Masukkan nomor (0-2): 1\n",
            "Agusmemilih:Kertas\n",
            "Komputermemilih:Kertas\n",
            "Hasil:Seri\n",
            "play again? (y/n):y\n",
            "Pilih tangan: (0: Batu, 1: Ketas, 2: Gunting)\n",
            "Masukkan nomor (0-2): 3\n",
            "Mohon masukkan nomor yang benar\n",
            "Pilih tangan: (0: Batu, 1: Ketas, 2: Gunting)\n",
            "Masukkan nomor (0-2): 2\n",
            "Agusmemilih:Gunting\n",
            "Komputermemilih:Batu\n",
            "Hasil:Kalah\n",
            "play again? (y/n):y\n",
            "Pilih tangan: (0: Batu, 1: Ketas, 2: Gunting)\n",
            "Masukkan nomor (0-2): 1\n",
            "Agusmemilih:Kertas\n",
            "Komputermemilih:Batu\n",
            "Hasil:Menang\n"
          ]
        }
      ]
    },
    {
      "cell_type": "markdown",
      "source": [
        "**catatan hati seorang istri**"
      ],
      "metadata": {
        "id": "4iDnqXADz4C2"
      }
    }
  ]
}